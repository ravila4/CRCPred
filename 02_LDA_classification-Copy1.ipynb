{
 "cells": [
  {
   "cell_type": "markdown",
   "metadata": {},
   "source": [
    "# Linear Discriminant Analysis for CRC Prediction"
   ]
  },
  {
   "cell_type": "markdown",
   "metadata": {},
   "source": [
    "Expleriments with linear discriminant analysis as a classifier."
   ]
  },
  {
   "cell_type": "code",
   "execution_count": 8,
   "metadata": {},
   "outputs": [],
   "source": [
    "import pandas as pd\n",
    "import matplotlib.pyplot as plt\n",
    "import numpy as np\n",
    "\n",
    "from sklearn.discriminant_analysis import LinearDiscriminantAnalysis as LDA\n",
    "from sklearn.metrics import accuracy_score, balanced_accuracy_score, make_scorer\n",
    "from sklearn.metrics import roc_auc_score, roc_curve\n",
    "from sklearn.model_selection import train_test_split, RandomizedSearchCV\n",
    "from sklearn.model_selection import cross_val_score\n",
    "\n",
    "from IPython.display import set_matplotlib_formats\n",
    "set_matplotlib_formats('pdf')"
   ]
  },
  {
   "cell_type": "code",
   "execution_count": 2,
   "metadata": {},
   "outputs": [],
   "source": [
    "# Get features\n",
    "samples = pd.read_csv(\"samples.csv\", index_col=0)\n",
    "microbes = pd.read_csv(\"microbes.csv\", index_col=0)\n",
    "metabolites = pd.read_csv(\"metabolites.csv\", index_col=0)\n",
    "combined_features = pd.concat([microbes, metabolites], axis=1)\n",
    "# Label vector \n",
    "labels = samples.case"
   ]
  },
  {
   "cell_type": "markdown",
   "metadata": {},
   "source": [
    "## Microbes Data"
   ]
  },
  {
   "cell_type": "markdown",
   "metadata": {},
   "source": [
    "Split into training and testing."
   ]
  },
  {
   "cell_type": "code",
   "execution_count": 3,
   "metadata": {},
   "outputs": [],
   "source": [
    "# We'll use 80% for training, and 20% for testing\n",
    "X_train, X_test, labels_train, labels_test = train_test_split(\n",
    "    microbes, labels, test_size=0.2, random_state=42)"
   ]
  },
  {
   "cell_type": "markdown",
   "metadata": {},
   "source": [
    "We also set up a 5x cross-validation on the training set, in order to tune the parameters of the model:"
   ]
  },
  {
   "cell_type": "code",
   "execution_count": 4,
   "metadata": {},
   "outputs": [
    {
     "name": "stdout",
     "output_type": "stream",
     "text": [
      "Training AUC Score: 0.59 (+/- 0.14)\n"
     ]
    }
   ],
   "source": [
    "# Setup 5x cross-validation, and manually tune the parameters for the best accuracy\n",
    "# The possible parameters are:\n",
    "#     solver: 'svd', 'eigen', 'lsqr'\n",
    "#     shrinkage: None, 'auto', 0 < n < 1\n",
    "\n",
    "lda = LDA(solver='lsqr', shrinkage='auto')\n",
    "scores = cross_val_score(lda, X_train, labels_train, cv=5,\n",
    "                         scoring=make_scorer(roc_auc_score))\n",
    "print(\"Training AUC Score: %0.2f (+/- %0.2f)\" % (scores.mean(), scores.std() * 2))"
   ]
  },
  {
   "cell_type": "markdown",
   "metadata": {},
   "source": [
    "The best model used the 'lsqr' solver 'auto' shrinkage.\n",
    "\n",
    "Predicting on the testing set:"
   ]
  },
  {
   "cell_type": "code",
   "execution_count": 6,
   "metadata": {},
   "outputs": [
    {
     "name": "stdout",
     "output_type": "stream",
     "text": [
      "Accuracy_score: 0.666666666667\n",
      "Balanced accuracy score: 0.618421052632\n",
      "AUC score: 0.677631578947\n"
     ]
    }
   ],
   "source": [
    "# Train the best model with the entire training set\n",
    "lda.fit(X_train, labels_train)\n",
    "microbes_pred = lda.predict(X_test)\n",
    "balanced_accuracy = balanced_accuracy_score(labels_test, microbes_pred)\n",
    "accuracy = accuracy_score(labels_test, microbes_pred)\n",
    "auc = roc_auc_score(y_true=labels_test, y_score=lda.decision_function(X_test))\n",
    "print(\"Accuracy_score:\", accuracy)\n",
    "print(\"Balanced accuracy score:\", balanced_accuracy)\n",
    "print(\"AUC score:\", auc)"
   ]
  },
  {
   "cell_type": "code",
   "execution_count": 48,
   "metadata": {},
   "outputs": [
    {
     "data": {
      "text/plain": [
       "[0.90000000000000002,\n",
       " 0.69999999999999996,\n",
       " 0.59999999999999998,\n",
       " 0.69999999999999996,\n",
       " 0.40000000000000002,\n",
       " 0.59999999999999998,\n",
       " 1.0,\n",
       " 0.5,\n",
       " 0.80000000000000004,\n",
       " 0.80000000000000004,\n",
       " 0.69999999999999996,\n",
       " 0.90000000000000002,\n",
       " 1.0,\n",
       " 0.29999999999999999,\n",
       " 0.69999999999999996,\n",
       " 0.90000000000000002,\n",
       " 0.69999999999999996,\n",
       " 0.5,\n",
       " 0.69999999999999996,\n",
       " 0.69999999999999996,\n",
       " 0.90000000000000002,\n",
       " 0.69999999999999996,\n",
       " 0.59999999999999998,\n",
       " 0.69999999999999996,\n",
       " 1.0,\n",
       " 0.59999999999999998,\n",
       " 0.90000000000000002]"
      ]
     },
     "execution_count": 48,
     "metadata": {},
     "output_type": "execute_result"
    }
   ],
   "source": [
    "[i for i, j in rf.predict_proba(X_test)]"
   ]
  },
  {
   "cell_type": "code",
   "execution_count": 9,
   "metadata": {},
   "outputs": [
    {
     "data": {
      "application/pdf": "[encoded data removed]",
      "text/plain": [
       "<Figure size 432x288 with 1 Axes>"
      ]
     },
     "metadata": {
      "needs_background": "light"
     },
     "output_type": "display_data"
    }
   ],
   "source": [
    "# Plot an ROC curve\n",
    "fpr, tpr, _ = roc_curve(y_true=labels_test, y_score=lda.decision_function(X_test))\n",
    "plt.plot(fpr, tpr, label=\"AUC = {0:.2f}\".format(auc))\n",
    "plt.plot([0, 1], [0, 1], color='red', lw=1, linestyle='--')\n",
    "plt.xlim([0.0, 1.0])\n",
    "plt.ylim([0.0, 1.0])\n",
    "plt.xlabel('False Positive Rate')\n",
    "plt.ylabel('True Positive Rate')\n",
    "plt.legend()\n",
    "plt.show()"
   ]
  },
  {
   "cell_type": "code",
   "execution_count": 10,
   "metadata": {},
   "outputs": [
    {
     "data": {
      "text/plain": [
       "['Root;k__Bacteria;p__Chloroflexi',\n",
       " 'Root;k__Bacteria;p__Proteobacteria;c__Gammaproteobacteria;o__Alteromonadales',\n",
       " 'Root;k__Bacteria;p__Bacteroidetes;c__Bacteroidia;o__Bacteroidales;f__[Odoribacteraceae];g__Butyricimonas',\n",
       " 'Root;k__Bacteria;p__Cyanobacteria',\n",
       " 'Root;k__Bacteria;p__Fusobacteria;c__Fusobacteria;o__Fusobacteriales;f__Fusobacteriaceae;g__Fusobacterium',\n",
       " 'Root;k__Bacteria;p__Firmicutes;c__Clostridia;o__Clostridiales;f__Lachnospiraceae;g__Pseudobutyrivibrio',\n",
       " 'Root;k__Bacteria;p__Firmicutes;c__Bacilli;o__Bacillales;f__Planococcaceae',\n",
       " 'Root;k__Bacteria;p__Firmicutes;c__Bacilli;o__Bacillales;f__Planococcaceae;g__',\n",
       " 'Root;k__Bacteria;p__Synergistetes;c__Synergistia;o__Synergistales;f__Synergistaceae',\n",
       " 'Root;k__Bacteria;p__Synergistetes;c__Synergistia',\n",
       " 'Root;k__Bacteria;p__Synergistetes;c__Synergistia;o__Synergistales',\n",
       " 'Root;k__Bacteria;p__Synergistetes',\n",
       " 'Root;k__Bacteria;p__Firmicutes;c__Clostridia;o__Clostridiales;f__Ruminococcaceae;g__Anaerotruncus',\n",
       " 'Root;k__Bacteria;p__Proteobacteria;c__Alphaproteobacteria;o__Rhodobacterales',\n",
       " 'Root;k__Bacteria;p__Proteobacteria;c__Alphaproteobacteria;o__Rhodobacterales;f__Rhodobacteraceae',\n",
       " 'Root;k__Bacteria;p__Firmicutes;c__Clostridia;o__Clostridiales;f__Peptococcaceae;g__Peptococcus',\n",
       " 'Root;k__Archaea;p__Euryarchaeota',\n",
       " 'Root;k__Bacteria;p__Acidobacteria',\n",
       " 'Root;k__Archaea;p__Euryarchaeota;c__[Parvarchaea];o__YLA114',\n",
       " 'Root;k__Archaea;p__Euryarchaeota;c__[Parvarchaea];o__YLA114;f__;g__']"
      ]
     },
     "execution_count": 10,
     "metadata": {},
     "output_type": "execute_result"
    }
   ],
   "source": [
    "# Important variables, based on LDA weights\n",
    "weights = list(enumerate(np.abs(lda.coef_[0])))\n",
    "sorted_weights = sorted(weights, key=lambda x: x[1], reverse=True)\n",
    "# Get top 30 variables\n",
    "top_variables = [i for i, j in sorted_weights][:20]\n",
    "[microbes.columns[i] for i in top_variables]"
   ]
  },
  {
   "cell_type": "markdown",
   "metadata": {},
   "source": [
    "## Metabolites Data"
   ]
  },
  {
   "cell_type": "code",
   "execution_count": 11,
   "metadata": {},
   "outputs": [],
   "source": [
    "X_train, X_test, labels_train, labels_test = train_test_split(\n",
    "    metabolites, labels, test_size=0.2, random_state=42)"
   ]
  },
  {
   "cell_type": "code",
   "execution_count": 12,
   "metadata": {},
   "outputs": [
    {
     "name": "stdout",
     "output_type": "stream",
     "text": [
      "Training AUC Score: 0.69 (+/- 0.12)\n"
     ]
    }
   ],
   "source": [
    "# Setup 5x cross-validation, and manually tune the parameters for the best accuracy\n",
    "# The possible parameters are:\n",
    "#     solver: 'svd', 'eigen', 'lsqr'\n",
    "#     shrinkage: None, 'auto', 0 < n < 1\n",
    "\n",
    "lda = LDA(solver='lsqr', shrinkage='auto')\n",
    "scores = cross_val_score(lda, X_train, labels_train, cv=5,\n",
    "                         scoring=make_scorer(roc_auc_score))\n",
    "print(\"Training AUC Score: %0.2f (+/- %0.2f)\" % (scores.mean(), scores.std() * 2))"
   ]
  },
  {
   "cell_type": "code",
   "execution_count": 13,
   "metadata": {},
   "outputs": [
    {
     "name": "stdout",
     "output_type": "stream",
     "text": [
      "Accuracy_score: 0.814814814815\n",
      "Balanced accuracy score: 0.759868421053\n",
      "AUC score: 0.861842105263\n"
     ]
    }
   ],
   "source": [
    "# Train the best model with the entire training set\n",
    "lda.fit(X_train, labels_train)\n",
    "metab_pred = lda.predict(X_test)\n",
    "balanced_accuracy = balanced_accuracy_score(labels_test, metab_pred)\n",
    "accuracy = accuracy_score(labels_test, metab_pred)\n",
    "auc = roc_auc_score(y_true=labels_test, y_score=lda.decision_function(X_test))\n",
    "print(\"Accuracy_score:\", accuracy)\n",
    "print(\"Balanced accuracy score:\", balanced_accuracy)\n",
    "print(\"AUC score:\", auc)"
   ]
  },
  {
   "cell_type": "code",
   "execution_count": 14,
   "metadata": {},
   "outputs": [
    {
     "data": {
      "text/plain": [
       "['X_15528',\n",
       " 'ALLO_THREONINE',\n",
       " 'HEXADECANEDIOATE',\n",
       " 'N_ACETYLGLUTAMINE',\n",
       " 'LEVULINATE__4_OXOVALERATE_',\n",
       " '_4_HYDROXYBENZOATE',\n",
       " 'X_14473',\n",
       " 'PROLINE',\n",
       " 'ISOPALMITIC_ACID',\n",
       " 'N6_ACETYLLYSINE',\n",
       " 'MANNOSE',\n",
       " '_4_ACETAMIDOPHENOL',\n",
       " 'PROLYLALANINE',\n",
       " 'PALMITOYL_SPHINGOMYELIN',\n",
       " '_2_HYDROXYMYRISTATE',\n",
       " 'HOMOCYSTEINE',\n",
       " 'GLUTAMINE',\n",
       " 'N_ACETYLNEURAMINATE',\n",
       " 'LEUCYLTRYPTOPHAN',\n",
       " 'HISTIDINE']"
      ]
     },
     "execution_count": 14,
     "metadata": {},
     "output_type": "execute_result"
    }
   ],
   "source": [
    "# Important variables, based on LDA weights\n",
    "weights = list(enumerate(np.abs(lda.coef_[0])))\n",
    "sorted_weights = sorted(weights, key=lambda x: x[1], reverse=True)\n",
    "# Get top 30 variables\n",
    "top_variables = [i for i, j in sorted_weights][:20]\n",
    "[metabolites.columns[i] for i in top_variables]"
   ]
  },
  {
   "cell_type": "code",
   "execution_count": 15,
   "metadata": {},
   "outputs": [
    {
     "data": {
      "application/pdf": "[encoded data removed]",
      "text/plain": [
       "<Figure size 432x288 with 1 Axes>"
      ]
     },
     "metadata": {
      "needs_background": "light"
     },
     "output_type": "display_data"
    }
   ],
   "source": [
    "# Plot an ROC curve\n",
    "fpr, tpr, _ = roc_curve(y_true=labels_test, y_score=lda.decision_function(X_test))\n",
    "plt.plot(fpr, tpr, label=\"AUC = {0:.2f}\".format(auc))\n",
    "plt.plot([0, 1], [0, 1], color='red', lw=1, linestyle='--')\n",
    "plt.xlim([0.0, 1.0])\n",
    "plt.ylim([0.0, 1.05])\n",
    "plt.xlabel('False Positive Rate')\n",
    "plt.ylabel('True Positive Rate')\n",
    "plt.legend()\n",
    "plt.show()"
   ]
  },
  {
   "cell_type": "markdown",
   "metadata": {},
   "source": [
    "## Combined Data"
   ]
  },
  {
   "cell_type": "code",
   "execution_count": 16,
   "metadata": {},
   "outputs": [],
   "source": [
    "X_train, X_test, labels_train, labels_test = train_test_split(\n",
    "    combined_features, labels, test_size=0.2, random_state=42)"
   ]
  },
  {
   "cell_type": "code",
   "execution_count": 17,
   "metadata": {},
   "outputs": [
    {
     "name": "stdout",
     "output_type": "stream",
     "text": [
      "Training AUC Score: 0.65 (+/- 0.10)\n"
     ]
    }
   ],
   "source": [
    "# Setup 5x cross-validation, and manually tune the parameters for the best accuracy\n",
    "# The possible parameters are:\n",
    "#     solver: 'svd', 'eigen', 'lsqr'\n",
    "#     shrinkage: None, 'auto', 0 < n < 1\n",
    "\n",
    "lda = LDA(solver='lsqr', shrinkage=.7)\n",
    "scores = cross_val_score(lda, X_train, labels_train, cv=5,\n",
    "                         scoring=make_scorer(roc_auc_score))\n",
    "print(\"Training AUC Score: %0.2f (+/- %0.2f)\" % (scores.mean(), scores.std() * 2))"
   ]
  },
  {
   "cell_type": "code",
   "execution_count": 18,
   "metadata": {},
   "outputs": [
    {
     "name": "stdout",
     "output_type": "stream",
     "text": [
      "Accuracy_score: 0.814814814815\n",
      "Balanced accuracy score: 0.723684210526\n",
      "AUC score: 0.848684210526\n"
     ]
    }
   ],
   "source": [
    "# Train the best model with the entire training set\n",
    "lda.fit(X_train, labels_train)\n",
    "combined_pred = lda.predict(X_test)\n",
    "balanced_accuracy = balanced_accuracy_score(labels_test, combined_pred)\n",
    "accuracy = accuracy_score(labels_test, combined_pred)\n",
    "auc = roc_auc_score(y_true=labels_test, y_score=lda.decision_function(X_test))\n",
    "print(\"Accuracy_score:\", accuracy)\n",
    "print(\"Balanced accuracy score:\", balanced_accuracy)\n",
    "print(\"AUC score:\", auc)"
   ]
  },
  {
   "cell_type": "code",
   "execution_count": 19,
   "metadata": {},
   "outputs": [
    {
     "data": {
      "application/pdf": "[encoded data removed]",
      "text/plain": [
       "<Figure size 432x288 with 1 Axes>"
      ]
     },
     "metadata": {
      "needs_background": "light"
     },
     "output_type": "display_data"
    }
   ],
   "source": [
    "# Plot an ROC curve\n",
    "fpr, tpr, _ = roc_curve(y_true=labels_test, y_score=lda.decision_function(X_test))\n",
    "plt.plot(fpr, tpr, label=\"AUC = {0:.2f}\".format(auc))\n",
    "plt.plot([0, 1], [0, 1], color='red', lw=1, linestyle='--')\n",
    "plt.xlim([0.0, 1.0])\n",
    "plt.ylim([0.0, 1.05])\n",
    "plt.xlabel('False Positive Rate')\n",
    "plt.ylabel('True Positive Rate')\n",
    "plt.legend()\n",
    "plt.show()"
   ]
  },
  {
   "cell_type": "markdown",
   "metadata": {},
   "source": [
    "Overall, the performance of the metabolites data alone was the best, with an AUC score of 0.86. Combining the two datasets saw a decrease in performance. It is possible that performing some variable selection to eliminate unimportant variables would improve the model performance."
   ]
  }
 ],
 "metadata": {
  "kernelspec": {
   "display_name": "Python 3",
   "language": "python",
   "name": "python3"
  },
  "language_info": {
   "codemirror_mode": {
    "name": "ipython",
    "version": 3
   },
   "file_extension": ".py",
   "mimetype": "text/x-python",
   "name": "python",
   "nbconvert_exporter": "python",
   "pygments_lexer": "ipython3",
   "version": "3.6.6"
  }
 },
 "nbformat": 4,
 "nbformat_minor": 2
}
